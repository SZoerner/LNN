{
 "cells": [
  {
   "cell_type": "markdown",
   "id": "f8518e84-5090-4c75-a0a5-caedee0a439c",
   "metadata": {
    "tags": []
   },
   "source": [
    "# Propositional Logic Experiment\n",
    "\n",
    "In this notebook, we will test your skills on using the LNN in a propositional setting. You will be required to use your knowledge about per-node reasoning and bounds to complete the code and answer the query. Once you have evaluated the end result, [submit your answer](https://ibm.ent.box.com/notes/928968934657?s=42l32h0uno2ndq5o9omb7hl17dddpjuk) to become eligble for the [IBM Neuro-Symbolic AI Essentials](https://ibm.biz/nsai-essentials) Badge."
   ]
  },
  {
   "cell_type": "markdown",
   "id": "4ba45830-585b-4ee0-93dc-793a2ee3d94c",
   "metadata": {
    "tags": []
   },
   "source": [
    "### Learning Outcomes\n",
    "\n",
    "The [Propositional Logic](../0.%20Propositional%20Logic.ipynb) notebooks demonstrated logical reasoning to evaluate and inspect an LNN graph. This experiment will assess your ability to deconstruct a graph and infer truths for individual nodes. Completing the notebook provides the following learning outcomes:\n",
    "\n",
    "- Omni-directional inference per-node\n",
    "- Printing nodes to evaluate truths\n",
    "- Querying information based on inferred truths"
   ]
  },
  {
   "cell_type": "markdown",
   "id": "a4138282-78a7-4ffa-8cb0-78f0cd881ca1",
   "metadata": {
    "tags": []
   },
   "source": [
    "### Instructions\n",
    "\n",
    "1. _Use_ the illustrations given as a guide on how to reason with an LNN graph\n",
    "\n",
    "2. _Fill_ in code that will evaluate the correct truth values expected from performing logical inference\n",
    "\n",
    "3. _Query_ the logical disjunction between nodes B, D and E\n",
    "\n",
    "4. _Copy & paste_ the output of the result into the form under the `results` field "
   ]
  },
  {
   "cell_type": "markdown",
   "id": "f210f9bc-f931-460c-aed7-3c7be43df521",
   "metadata": {},
   "source": [
    "### Propositional Inference\n",
    "\n",
    "Recall that a proposition is any declarative sentence that allows you to associate a truth value with the atomic formulae. An LNN graph can hierarchically compose these propositions using logical connectives and reason over their respective truths. Evaluating a particular node requires an upward/downward inference pass.\n",
    "\n",
    "Suppose that you are given the following LNN graph:\n",
    "\n",
    "\n",
    "where the following beliefs are outputs from sensor information:\n",
    "```\n",
    "root: TRUE\n",
    "A: 0.2\n",
    "C: True\n",
    "E: 0.3 - 0.7\n",
    "```\n",
    "\n",
    "Your task is to perform successive inference passes to obtain the truth value of a query node. \n",
    "> HINT: use the `node.print()` function as a guide to ensure that the LNN is returning the correct truths. \n",
    "\n",
    "The final query is to return the truth of a **disjunction** of the following propositions:\n",
    "\n",
    "\\begin{equation}(B, D, E)\\end{equation}\n",
    "\n",
    "> NB: use the provided function definition to help you extract out the correct truth value bounds\n",
    "\n",
    "<center>\n",
    "    <figure>\n",
    "        <img src=\"../img/experiment/0/graph.png\" width=\"400\" />\n",
    "        <figcaption>Figure 1. Propositional inference</figcaption>\n",
    "    </figure>\n",
    "</center>"
   ]
  },
  {
   "cell_type": "markdown",
   "id": "6e187855-7ac0-4e68-9304-faa44277bb7d",
   "metadata": {},
   "source": [
    "Fill in the codeblock below to construct the graph and reason about all nodes:"
   ]
  },
  {
   "cell_type": "code",
   "execution_count": 1,
   "id": "f6089396-19e1-40ae-8055-a50be06417bd",
   "metadata": {
    "tags": []
   },
   "outputs": [
    {
     "data": {
      "image/png": "[encoded data removed]",
      "text/plain": [
       "<Figure size 432x288 with 1 Axes>"
      ]
     },
     "metadata": {},
     "output_type": "display_data"
    },
    {
     "name": "stdout",
     "output_type": "stream",
     "text": [
      "\n",
      "***************************************************************************\n",
      "                                LNN Model\n",
      "\n",
      "OPEN And: ((A → B) ∧ (((C ∧ D) → E) ∧ (E → (C ∧ D))))          TRUE (1.0, 1.0)\n",
      "\n",
      "OPEN Equivalent: (((C ∧ D) → E) ∧ (E → (C ∧ D)))            TRUE (1.0, 1.0)\n",
      "\n",
      "OPEN Implies: (E → (C ∧ D))                                 TRUE (1.0, 1.0)\n",
      "\n",
      "OPEN Implies: ((C ∧ D) → E)                                 TRUE (1.0, 1.0)\n",
      "\n",
      "OPEN Proposition: E                                APPROX_UNKNOWN (0.3, 0.7)\n",
      "\n",
      "OPEN And: (C ∧ D)                                  APPROX_UNKNOWN (0.3, 0.7)\n",
      "\n",
      "OPEN Proposition: D                                APPROX_UNKNOWN (0.3, 0.7)\n",
      "\n",
      "OPEN Proposition: C                                         TRUE (1.0, 1.0)\n",
      "\n",
      "OPEN Implies: (A → B)                                       TRUE (1.0, 1.0)\n",
      "\n",
      "OPEN Proposition: B                                APPROX_UNKNOWN (0.2, 1.0)\n",
      "\n",
      "OPEN Proposition: A                                 APPROX_FALSE (0.2, 0.2)\n",
      "\n",
      "***************************************************************************\n"
     ]
    }
   ],
   "source": [
    "from lnn import Model, Propositions, Fact, Implies, Equivalent, And\n",
    "\n",
    "# Rules\n",
    "A, B, C, D, E = Propositions(\"A\", \"B\", \"C\", \"D\", \"E\")\n",
    "\n",
    "IMPL = Implies(A,B)\n",
    "CONJ = And(C, D)\n",
    "EQUIV = Equivalent(CONJ, E)\n",
    "ROOT = And(IMPL, EQUIV)\n",
    "\n",
    "# Knowledge\n",
    "model = Model()\n",
    "model.add_knowledge(ROOT)\n",
    "\n",
    "# Data\n",
    "ROOT.add_data(Fact.TRUE)\n",
    "A.add_data((0.2, 0.2))\n",
    "C.add_data(Fact.TRUE)\n",
    "E.add_data((0.3, 0.7))\n",
    "\n",
    "# # Reasoning\n",
    "model.infer()\n",
    "\n",
    "# # Debugging\n",
    "model.plot_graph()\n",
    "model.print()"
   ]
  },
  {
   "cell_type": "markdown",
   "id": "d866094a-7435-439d-a42a-80c78f5e9173",
   "metadata": {},
   "source": [
    "### Query\n",
    "Finally, find the state of the **disjunction** between nodes `B`, `D` and `E` using the `query_state` method.\n",
    "\n",
    "<center>\n",
    "    <figure>\n",
    "        <img src=\"../img/experiment/0/query.png\" width=\"200\" />\n",
    "        <figcaption>Figure 5. Perform inference to find the disjunction between nodes B, D and E</figcaption>\n",
    "    </figure>\n",
    "</center>"
   ]
  },
  {
   "cell_type": "code",
   "execution_count": 2,
   "id": "cf64a30b-fdb7-4c19-82dc-53f0d73a8c87",
   "metadata": {},
   "outputs": [
    {
     "data": {
      "image/png": "[encoded data removed]",
      "text/plain": [
       "<Figure size 432x288 with 1 Axes>"
      ]
     },
     "metadata": {},
     "output_type": "display_data"
    },
    {
     "name": "stdout",
     "output_type": "stream",
     "text": [
      "\n",
      "***************************************************************************\n",
      "                                LNN Model\n",
      "\n",
      "OPEN Or: (B ∨ D ∨ E)                                 APPROX_TRUE (0.8, 1.0)\n",
      "\n",
      "OPEN And: ((A → B) ∧ (((C ∧ D) → E) ∧ (E → (C ∧ D))))          TRUE (1.0, 1.0)\n",
      "\n",
      "OPEN Equivalent: (((C ∧ D) → E) ∧ (E → (C ∧ D)))            TRUE (1.0, 1.0)\n",
      "\n",
      "OPEN Implies: (E → (C ∧ D))                                 TRUE (1.0, 1.0)\n",
      "\n",
      "OPEN Implies: ((C ∧ D) → E)                                 TRUE (1.0, 1.0)\n",
      "\n",
      "OPEN Proposition: E                                APPROX_UNKNOWN (0.3, 0.7)\n",
      "\n",
      "OPEN And: (C ∧ D)                                  APPROX_UNKNOWN (0.3, 0.7)\n",
      "\n",
      "OPEN Proposition: D                                APPROX_UNKNOWN (0.3, 0.7)\n",
      "\n",
      "OPEN Proposition: C                                         TRUE (1.0, 1.0)\n",
      "\n",
      "OPEN Implies: (A → B)                                       TRUE (1.0, 1.0)\n",
      "\n",
      "OPEN Proposition: B                                APPROX_UNKNOWN (0.2, 1.0)\n",
      "\n",
      "OPEN Proposition: A                                 APPROX_FALSE (0.2, 0.2)\n",
      "\n",
      "***************************************************************************\n"
     ]
    }
   ],
   "source": [
    "from lnn import Or\n",
    "\n",
    "query = Or(B,D,E)\n",
    "model.set_query(query)\n",
    "model.infer()\n",
    "\n",
    "model.plot_graph()\n",
    "model.print()"
   ]
  },
  {
   "cell_type": "markdown",
   "id": "87924e73-5235-4f16-b955-838400a6c731",
   "metadata": {},
   "source": [
    "<h2 style=\"color:#0f62fe\"><strong>NSAI Essentials Submission</strong></h2>\n",
    "\n",
    "- Run the codeblock below to extract the output of the query that was reasoned over. \n",
    "- The output from the cell, **including the quotation marks**, should be filled in the `result` field of the evaluation form.\n",
    "- See the [NSAI Essentials description](https://ibm.box.com/s/42l32h0uno2ndq5o9omb7hl17dddpjuk) for more details on the submission."
   ]
  },
  {
   "cell_type": "code",
   "execution_count": 3,
   "id": "b9676877-765f-4161-be1a-40079275012a",
   "metadata": {},
   "outputs": [
    {
     "data": {
      "text/plain": [
       "'APPROX_TRUE: (0.8, 1.0)'"
      ]
     },
     "execution_count": 3,
     "metadata": {},
     "output_type": "execute_result"
    }
   ],
   "source": [
    "def format_result(node):\n",
    "    round_off = lambda my_list: [float(f\"{_:.1f}\") for _ in my_list]\n",
    "    return f\"{node.state().name}: {tuple(round_off(node.get_data().tolist()))}\"\n",
    "\n",
    "format_result(query)"
   ]
  },
  {
   "cell_type": "markdown",
   "id": "11c7b63e-857c-4260-ab42-8e0f49dadca0",
   "metadata": {},
   "source": [
    "🎉 Congratulations on completing the first set of tutorials on propositional logic 🎉 "
   ]
  }
 ],
 "metadata": {
  "kernelspec": {
   "display_name": "Python 3.9.13 64-bit",
   "language": "python",
   "name": "python3"
  },
  "language_info": {
   "codemirror_mode": {
    "name": "ipython",
    "version": 3
   },
   "file_extension": ".py",
   "mimetype": "text/x-python",
   "name": "python",
   "nbconvert_exporter": "python",
   "pygments_lexer": "ipython3",
   "version": "3.9.13"
  },
  "vscode": {
   "interpreter": {
    "hash": "aee8b7b246df8f9039afb4144a1f6fd8d2ca17a180786b69acc140d282b71a49"
   }
  }
 },
 "nbformat": 4,
 "nbformat_minor": 5
}
